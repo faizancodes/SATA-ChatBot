{
 "cells": [
  {
   "cell_type": "code",
   "execution_count": 1,
   "metadata": {},
   "outputs": [],
   "source": [
    "# Function to formulate a response based on message input.\n",
    "def getReply(message):\n",
    "    \n",
    "    # Make the message lower case and without spaces on the end for easier handling\n",
    "    message = message.lower().strip()\n",
    "    \n",
    "    # This is the variable where we will store our response\n",
    "    answer = \"\"\n",
    "    \n",
    "    if \"weather\" in message:\n",
    "        answer = \"get the weather using a weather API\"\n",
    "            \n",
    "    # is the keyword \"wolfram\" in the message? Ex: \"wolfram integral of x + 1\"\n",
    "    elif \"wolfram\" in message:\n",
    "        answer = \"get a response from the Wolfram Alpha API\"\n",
    "    \n",
    "    # is the keyword \"wiki\" in the message? Ex: \"wiki donald trump\"\n",
    "    elif \"wiki\" in message:\n",
    "        #answer = “get a response from the Wikipedia API” \n",
    "        \n",
    "        # remove the keyword \"wiki\" from the message\n",
    "        message = removeHead(message, \"wiki\")\n",
    "        \n",
    "        # Get the wikipedia summary for the request\n",
    "        try:\n",
    "            # Get the summary off wikipedia\n",
    "            answer = wikipedia.summary(message, sentences=5)\n",
    "        except:\n",
    "            # handle errors or non specificity errors (ex: there are many people\n",
    "     # named donald)\n",
    "            answer = \"Request was not found using wiki. Be more specific?\"\n",
    "\n",
    "\n",
    "    # the message contains no keyword. Display a help prompt to identify possible \n",
    "    # commands\n",
    "    else:\n",
    "        answer = \"\\n Welcome! These are the commands you may use: \\nWOLFRAM \\\"wolframalpha request\\\" \\nWIKI \\\"wikipedia request\\\"\\nWEATHER \\\"place\\\"\\nSOME_KEYWORD \\\"some custom request\\\"\\n\"\n",
    "    \n",
    "    # Twilio can not send messages over 1600 characters in one message. Wikipedia\n",
    "    # summaries may have way more than this. \n",
    "    # So shortening is required (1500 chars is a good bet):\n",
    "    if len(answer) > 1500:\n",
    "        answer = answer[0:1500] + \"...\"\n",
    "    \n",
    "    # return the formulated answer\n",
    "    return answer\n",
    "\n",
    "\n",
    "# Function for editing input text. Ex: If you send the message \"wolfram calories in bread\", \n",
    "# the program will recognize \"wolfram\" and call this function and will \n",
    "# change the text to \"calories in bread\", which will then be sent to wolfram.\n",
    "def removeHead(fromThis, removeThis):\n",
    "    if fromThis.endswith(removeThis):\n",
    "        fromThis = fromThis[:-len(removeThis)].strip()\n",
    "    elif fromThis.startswith(removeThis):\n",
    "        fromThis = fromThis[len(removeThis):].strip()\n",
    "    \n",
    "    return fromThis"
   ]
  },
  {
   "cell_type": "code",
   "execution_count": 2,
   "metadata": {},
   "outputs": [
    {
     "name": "stdout",
     "output_type": "stream",
     "text": [
      " * Serving Flask app \"__main__\" (lazy loading)\n",
      " * Environment: production\n",
      "   WARNING: Do not use the development server in a production environment.\n",
      "   Use a production WSGI server instead.\n",
      " * Debug mode: off\n"
     ]
    },
    {
     "name": "stderr",
     "output_type": "stream",
     "text": [
      " * Running on http://127.0.0.1:5000/ (Press CTRL+C to quit)\n",
      "127.0.0.1 - - [18/Oct/2020 16:55:38] \"\u001b[37mPOST / HTTP/1.1\u001b[0m\" 200 -\n",
      "127.0.0.1 - - [18/Oct/2020 16:56:19] \"\u001b[37mPOST / HTTP/1.1\u001b[0m\" 200 -\n",
      "127.0.0.1 - - [18/Oct/2020 16:56:45] \"\u001b[37mPOST / HTTP/1.1\u001b[0m\" 200 -\n",
      "127.0.0.1 - - [18/Oct/2020 17:02:37] \"\u001b[37mPOST / HTTP/1.1\u001b[0m\" 200 -\n",
      "127.0.0.1 - - [18/Oct/2020 17:03:16] \"\u001b[37mPOST / HTTP/1.1\u001b[0m\" 200 -\n",
      "127.0.0.1 - - [18/Oct/2020 17:03:46] \"\u001b[37mPOST / HTTP/1.1\u001b[0m\" 200 -\n"
     ]
    }
   ],
   "source": [
    "# import all the libraries we will be using\n",
    "from flask import Flask, request\n",
    "import wikipedia\n",
    "from twilio.twiml.messaging_response import Message, MessagingResponse\n",
    "\n",
    "# set up Flask to connect this code to the local host, which will\n",
    "# later be connected to the internet through Ngrok\n",
    "app = Flask(__name__)\n",
    "    \n",
    "# Main method. When a POST request is sent to our local host through Ngrok \n",
    "# (which creates a tunnel to the web), this code will run. The Twilio service # sends the POST request - we will set this up on the Twilio website. So when # a message is sent over SMS to our Twilio number, this code will run\n",
    "@app.route('/', methods=['POST'])\n",
    "def sms():\n",
    "    \n",
    "    # Get the text in the message sent\n",
    "    message_body = request.form['Body']\n",
    "    \n",
    "    # Create a Twilio response object to be able to send a reply back (as per # Twilio docs)\n",
    "    resp = MessagingResponse()\n",
    "    \n",
    "    # Send the message body to the getReply message, where \n",
    "    # we will query the String and formulate a response\n",
    "    replyText = getReply(message_body)\n",
    "\n",
    "    # Text back our response!\n",
    "    resp.message('Hi\\n\\n' + replyText)\n",
    "    return str(resp)\n",
    "\n",
    "# when you run the code through terminal, this will allow Flask to work\n",
    "if __name__ == '__main__':\n",
    "    app.run()"
   ]
  },
  {
   "cell_type": "code",
   "execution_count": 4,
   "metadata": {},
   "outputs": [
    {
     "name": "stdout",
     "output_type": "stream",
     "text": [
      "Question: what is the integral of x^8\n",
      "integral x^8 dx = x^9/9 + constant\n"
     ]
    }
   ],
   "source": [
    "import wolframalpha \n",
    "  \n",
    "# Taking input from user \n",
    "question = input('Question: ') \n",
    "  \n",
    "# App id obtained by the above steps \n",
    "app_id = 'V4RWR7-WAT6JVK6AW' \n",
    "  \n",
    "# Instance of wolf ram alpha  \n",
    "# client class \n",
    "client = wolframalpha.Client(app_id) \n",
    "  \n",
    "# Stores the response from  \n",
    "# wolf ram alpha \n",
    "res = client.query(question) \n",
    "  \n",
    "# Includes only text from the response \n",
    "answer = next(res.results).text \n",
    "  \n",
    "print(answer) "
   ]
  },
  {
   "cell_type": "code",
   "execution_count": null,
   "metadata": {},
   "outputs": [],
   "source": []
  }
 ],
 "metadata": {
  "kernelspec": {
   "display_name": "Python 3",
   "language": "python",
   "name": "python3"
  },
  "language_info": {
   "codemirror_mode": {
    "name": "ipython",
    "version": 3
   },
   "file_extension": ".py",
   "mimetype": "text/x-python",
   "name": "python",
   "nbconvert_exporter": "python",
   "pygments_lexer": "ipython3",
   "version": "3.6.7"
  }
 },
 "nbformat": 4,
 "nbformat_minor": 4
}
